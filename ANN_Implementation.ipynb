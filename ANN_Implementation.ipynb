{
  "nbformat": 4,
  "nbformat_minor": 0,
  "metadata": {
    "colab": {
      "name": "ANN Implementation.ipynb",
      "provenance": [],
      "authorship_tag": "ABX9TyOqWYMejmDpH8oNkeeZ/OSp",
      "include_colab_link": true
    },
    "kernelspec": {
      "name": "python3",
      "display_name": "Python 3"
    },
    "language_info": {
      "name": "python"
    }
  },
  "cells": [
    {
      "cell_type": "markdown",
      "metadata": {
        "id": "view-in-github",
        "colab_type": "text"
      },
      "source": [
        "<a href=\"https://colab.research.google.com/github/daaaanish17/ANN-Implementation/blob/main/ANN_Implementation.ipynb\" target=\"_parent\"><img src=\"https://colab.research.google.com/assets/colab-badge.svg\" alt=\"Open In Colab\"/></a>"
      ]
    },
    {
      "cell_type": "code",
      "execution_count": 2,
      "metadata": {
        "id": "Ny4-v_tAiFMQ",
        "colab": {
          "base_uri": "https://localhost:8080/"
        },
        "outputId": "1b9d2062-37d8-4c44-8e09-752fa80cb232"
      },
      "outputs": [
        {
          "output_type": "stream",
          "name": "stdout",
          "text": [
            "Collecting tensorflow-gpu\n",
            "  Downloading tensorflow_gpu-2.9.0-cp37-cp37m-manylinux_2_17_x86_64.manylinux2014_x86_64.whl (511.7 MB)\n",
            "\u001b[K     |████████████████████████████████| 511.7 MB 3.5 kB/s \n",
            "\u001b[?25hRequirement already satisfied: six>=1.12.0 in /usr/local/lib/python3.7/dist-packages (from tensorflow-gpu) (1.15.0)\n",
            "Requirement already satisfied: keras-preprocessing>=1.1.1 in /usr/local/lib/python3.7/dist-packages (from tensorflow-gpu) (1.1.2)\n",
            "Requirement already satisfied: termcolor>=1.1.0 in /usr/local/lib/python3.7/dist-packages (from tensorflow-gpu) (1.1.0)\n",
            "Requirement already satisfied: libclang>=13.0.0 in /usr/local/lib/python3.7/dist-packages (from tensorflow-gpu) (14.0.1)\n",
            "Requirement already satisfied: opt-einsum>=2.3.2 in /usr/local/lib/python3.7/dist-packages (from tensorflow-gpu) (3.3.0)\n",
            "Requirement already satisfied: google-pasta>=0.1.1 in /usr/local/lib/python3.7/dist-packages (from tensorflow-gpu) (0.2.0)\n",
            "Requirement already satisfied: astunparse>=1.6.0 in /usr/local/lib/python3.7/dist-packages (from tensorflow-gpu) (1.6.3)\n",
            "Requirement already satisfied: packaging in /usr/local/lib/python3.7/dist-packages (from tensorflow-gpu) (21.3)\n",
            "Requirement already satisfied: setuptools in /usr/local/lib/python3.7/dist-packages (from tensorflow-gpu) (57.4.0)\n",
            "Requirement already satisfied: absl-py>=1.0.0 in /usr/local/lib/python3.7/dist-packages (from tensorflow-gpu) (1.0.0)\n",
            "Requirement already satisfied: numpy>=1.20 in /usr/local/lib/python3.7/dist-packages (from tensorflow-gpu) (1.21.6)\n",
            "Collecting keras<2.10.0,>=2.9.0rc0\n",
            "  Downloading keras-2.9.0-py2.py3-none-any.whl (1.6 MB)\n",
            "\u001b[K     |████████████████████████████████| 1.6 MB 45.6 MB/s \n",
            "\u001b[?25hRequirement already satisfied: h5py>=2.9.0 in /usr/local/lib/python3.7/dist-packages (from tensorflow-gpu) (3.1.0)\n",
            "Requirement already satisfied: protobuf>=3.9.2 in /usr/local/lib/python3.7/dist-packages (from tensorflow-gpu) (3.17.3)\n",
            "Collecting gast<=0.4.0,>=0.2.1\n",
            "  Downloading gast-0.4.0-py3-none-any.whl (9.8 kB)\n",
            "Requirement already satisfied: tensorflow-io-gcs-filesystem>=0.23.1 in /usr/local/lib/python3.7/dist-packages (from tensorflow-gpu) (0.25.0)\n",
            "Requirement already satisfied: typing-extensions>=3.6.6 in /usr/local/lib/python3.7/dist-packages (from tensorflow-gpu) (4.2.0)\n",
            "Requirement already satisfied: wrapt>=1.11.0 in /usr/local/lib/python3.7/dist-packages (from tensorflow-gpu) (1.14.1)\n",
            "Requirement already satisfied: grpcio<2.0,>=1.24.3 in /usr/local/lib/python3.7/dist-packages (from tensorflow-gpu) (1.46.1)\n",
            "Collecting tensorboard<2.10,>=2.9\n",
            "  Downloading tensorboard-2.9.0-py3-none-any.whl (5.8 MB)\n",
            "\u001b[K     |████████████████████████████████| 5.8 MB 21.3 MB/s \n",
            "\u001b[?25hCollecting tensorflow-estimator<2.10.0,>=2.9.0rc0\n",
            "  Downloading tensorflow_estimator-2.9.0-py2.py3-none-any.whl (438 kB)\n",
            "\u001b[K     |████████████████████████████████| 438 kB 23.0 MB/s \n",
            "\u001b[?25hCollecting flatbuffers<2,>=1.12\n",
            "  Downloading flatbuffers-1.12-py2.py3-none-any.whl (15 kB)\n",
            "Requirement already satisfied: wheel<1.0,>=0.23.0 in /usr/local/lib/python3.7/dist-packages (from astunparse>=1.6.0->tensorflow-gpu) (0.37.1)\n",
            "Requirement already satisfied: cached-property in /usr/local/lib/python3.7/dist-packages (from h5py>=2.9.0->tensorflow-gpu) (1.5.2)\n",
            "Requirement already satisfied: google-auth<3,>=1.6.3 in /usr/local/lib/python3.7/dist-packages (from tensorboard<2.10,>=2.9->tensorflow-gpu) (1.35.0)\n",
            "Requirement already satisfied: requests<3,>=2.21.0 in /usr/local/lib/python3.7/dist-packages (from tensorboard<2.10,>=2.9->tensorflow-gpu) (2.23.0)\n",
            "Requirement already satisfied: werkzeug>=1.0.1 in /usr/local/lib/python3.7/dist-packages (from tensorboard<2.10,>=2.9->tensorflow-gpu) (1.0.1)\n",
            "Requirement already satisfied: google-auth-oauthlib<0.5,>=0.4.1 in /usr/local/lib/python3.7/dist-packages (from tensorboard<2.10,>=2.9->tensorflow-gpu) (0.4.6)\n",
            "Requirement already satisfied: tensorboard-data-server<0.7.0,>=0.6.0 in /usr/local/lib/python3.7/dist-packages (from tensorboard<2.10,>=2.9->tensorflow-gpu) (0.6.1)\n",
            "Requirement already satisfied: markdown>=2.6.8 in /usr/local/lib/python3.7/dist-packages (from tensorboard<2.10,>=2.9->tensorflow-gpu) (3.3.7)\n",
            "Requirement already satisfied: tensorboard-plugin-wit>=1.6.0 in /usr/local/lib/python3.7/dist-packages (from tensorboard<2.10,>=2.9->tensorflow-gpu) (1.8.1)\n",
            "Requirement already satisfied: pyasn1-modules>=0.2.1 in /usr/local/lib/python3.7/dist-packages (from google-auth<3,>=1.6.3->tensorboard<2.10,>=2.9->tensorflow-gpu) (0.2.8)\n",
            "Requirement already satisfied: cachetools<5.0,>=2.0.0 in /usr/local/lib/python3.7/dist-packages (from google-auth<3,>=1.6.3->tensorboard<2.10,>=2.9->tensorflow-gpu) (4.2.4)\n",
            "Requirement already satisfied: rsa<5,>=3.1.4 in /usr/local/lib/python3.7/dist-packages (from google-auth<3,>=1.6.3->tensorboard<2.10,>=2.9->tensorflow-gpu) (4.8)\n",
            "Requirement already satisfied: requests-oauthlib>=0.7.0 in /usr/local/lib/python3.7/dist-packages (from google-auth-oauthlib<0.5,>=0.4.1->tensorboard<2.10,>=2.9->tensorflow-gpu) (1.3.1)\n",
            "Requirement already satisfied: importlib-metadata>=4.4 in /usr/local/lib/python3.7/dist-packages (from markdown>=2.6.8->tensorboard<2.10,>=2.9->tensorflow-gpu) (4.11.3)\n",
            "Requirement already satisfied: zipp>=0.5 in /usr/local/lib/python3.7/dist-packages (from importlib-metadata>=4.4->markdown>=2.6.8->tensorboard<2.10,>=2.9->tensorflow-gpu) (3.8.0)\n",
            "Requirement already satisfied: pyasn1<0.5.0,>=0.4.6 in /usr/local/lib/python3.7/dist-packages (from pyasn1-modules>=0.2.1->google-auth<3,>=1.6.3->tensorboard<2.10,>=2.9->tensorflow-gpu) (0.4.8)\n",
            "Requirement already satisfied: urllib3!=1.25.0,!=1.25.1,<1.26,>=1.21.1 in /usr/local/lib/python3.7/dist-packages (from requests<3,>=2.21.0->tensorboard<2.10,>=2.9->tensorflow-gpu) (1.24.3)\n",
            "Requirement already satisfied: certifi>=2017.4.17 in /usr/local/lib/python3.7/dist-packages (from requests<3,>=2.21.0->tensorboard<2.10,>=2.9->tensorflow-gpu) (2021.10.8)\n",
            "Requirement already satisfied: chardet<4,>=3.0.2 in /usr/local/lib/python3.7/dist-packages (from requests<3,>=2.21.0->tensorboard<2.10,>=2.9->tensorflow-gpu) (3.0.4)\n",
            "Requirement already satisfied: idna<3,>=2.5 in /usr/local/lib/python3.7/dist-packages (from requests<3,>=2.21.0->tensorboard<2.10,>=2.9->tensorflow-gpu) (2.10)\n",
            "Requirement already satisfied: oauthlib>=3.0.0 in /usr/local/lib/python3.7/dist-packages (from requests-oauthlib>=0.7.0->google-auth-oauthlib<0.5,>=0.4.1->tensorboard<2.10,>=2.9->tensorflow-gpu) (3.2.0)\n",
            "Requirement already satisfied: pyparsing!=3.0.5,>=2.0.2 in /usr/local/lib/python3.7/dist-packages (from packaging->tensorflow-gpu) (3.0.9)\n",
            "Installing collected packages: tensorflow-estimator, tensorboard, keras, gast, flatbuffers, tensorflow-gpu\n",
            "  Attempting uninstall: tensorflow-estimator\n",
            "    Found existing installation: tensorflow-estimator 2.8.0\n",
            "    Uninstalling tensorflow-estimator-2.8.0:\n",
            "      Successfully uninstalled tensorflow-estimator-2.8.0\n",
            "  Attempting uninstall: tensorboard\n",
            "    Found existing installation: tensorboard 2.8.0\n",
            "    Uninstalling tensorboard-2.8.0:\n",
            "      Successfully uninstalled tensorboard-2.8.0\n",
            "  Attempting uninstall: keras\n",
            "    Found existing installation: keras 2.8.0\n",
            "    Uninstalling keras-2.8.0:\n",
            "      Successfully uninstalled keras-2.8.0\n",
            "  Attempting uninstall: gast\n",
            "    Found existing installation: gast 0.5.3\n",
            "    Uninstalling gast-0.5.3:\n",
            "      Successfully uninstalled gast-0.5.3\n",
            "  Attempting uninstall: flatbuffers\n",
            "    Found existing installation: flatbuffers 2.0\n",
            "    Uninstalling flatbuffers-2.0:\n",
            "      Successfully uninstalled flatbuffers-2.0\n",
            "\u001b[31mERROR: pip's dependency resolver does not currently take into account all the packages that are installed. This behaviour is the source of the following dependency conflicts.\n",
            "tensorflow 2.8.0+zzzcolab20220506162203 requires tf-estimator-nightly==2.8.0.dev2021122109, which is not installed.\n",
            "tensorflow 2.8.0+zzzcolab20220506162203 requires keras<2.9,>=2.8.0rc0, but you have keras 2.9.0 which is incompatible.\n",
            "tensorflow 2.8.0+zzzcolab20220506162203 requires tensorboard<2.9,>=2.8, but you have tensorboard 2.9.0 which is incompatible.\u001b[0m\n",
            "Successfully installed flatbuffers-1.12 gast-0.4.0 keras-2.9.0 tensorboard-2.9.0 tensorflow-estimator-2.9.0 tensorflow-gpu-2.9.0\n"
          ]
        }
      ],
      "source": [
        "!pip install tensorflow-gpu"
      ]
    },
    {
      "cell_type": "code",
      "source": [
        "import tensorflow as tf\n",
        "tf.__version__"
      ],
      "metadata": {
        "colab": {
          "base_uri": "https://localhost:8080/",
          "height": 36
        },
        "id": "quPM6vyvrih7",
        "outputId": "9e4a2ddb-7110-4803-c568-a9bc63a20404"
      },
      "execution_count": 3,
      "outputs": [
        {
          "output_type": "execute_result",
          "data": {
            "text/plain": [
              "'2.9.0'"
            ],
            "application/vnd.google.colaboratory.intrinsic+json": {
              "type": "string"
            }
          },
          "metadata": {},
          "execution_count": 3
        }
      ]
    },
    {
      "cell_type": "markdown",
      "source": [
        "Importing libraries"
      ],
      "metadata": {
        "id": "BwDD4NWVr2sw"
      }
    },
    {
      "cell_type": "code",
      "source": [
        "import numpy as np\n",
        "import matplotlib.pyplot as plt\n",
        "import pandas as pd"
      ],
      "metadata": {
        "id": "UgkCNtjdrieW"
      },
      "execution_count": 5,
      "outputs": []
    },
    {
      "cell_type": "markdown",
      "source": [
        "Binary Classification Problem"
      ],
      "metadata": {
        "id": "Ya-vflrRsvB0"
      }
    },
    {
      "cell_type": "code",
      "source": [
        "df = pd.read_csv('Churn_Modelling.csv')\n",
        "df.head()"
      ],
      "metadata": {
        "colab": {
          "base_uri": "https://localhost:8080/",
          "height": 270
        },
        "id": "4eHly-fOrick",
        "outputId": "48dafc5b-2557-4f54-da40-279af27db930"
      },
      "execution_count": 6,
      "outputs": [
        {
          "output_type": "execute_result",
          "data": {
            "text/plain": [
              "   RowNumber  CustomerId   Surname  CreditScore Geography  Gender  Age  \\\n",
              "0          1    15634602  Hargrave          619    France  Female   42   \n",
              "1          2    15647311      Hill          608     Spain  Female   41   \n",
              "2          3    15619304      Onio          502    France  Female   42   \n",
              "3          4    15701354      Boni          699    France  Female   39   \n",
              "4          5    15737888  Mitchell          850     Spain  Female   43   \n",
              "\n",
              "   Tenure    Balance  NumOfProducts  HasCrCard  IsActiveMember  \\\n",
              "0       2       0.00              1          1               1   \n",
              "1       1   83807.86              1          0               1   \n",
              "2       8  159660.80              3          1               0   \n",
              "3       1       0.00              2          0               0   \n",
              "4       2  125510.82              1          1               1   \n",
              "\n",
              "   EstimatedSalary  Exited  \n",
              "0        101348.88       1  \n",
              "1        112542.58       0  \n",
              "2        113931.57       1  \n",
              "3         93826.63       0  \n",
              "4         79084.10       0  "
            ],
            "text/html": [
              "\n",
              "  <div id=\"df-19382938-13e7-47ec-b13d-452e06c89f63\">\n",
              "    <div class=\"colab-df-container\">\n",
              "      <div>\n",
              "<style scoped>\n",
              "    .dataframe tbody tr th:only-of-type {\n",
              "        vertical-align: middle;\n",
              "    }\n",
              "\n",
              "    .dataframe tbody tr th {\n",
              "        vertical-align: top;\n",
              "    }\n",
              "\n",
              "    .dataframe thead th {\n",
              "        text-align: right;\n",
              "    }\n",
              "</style>\n",
              "<table border=\"1\" class=\"dataframe\">\n",
              "  <thead>\n",
              "    <tr style=\"text-align: right;\">\n",
              "      <th></th>\n",
              "      <th>RowNumber</th>\n",
              "      <th>CustomerId</th>\n",
              "      <th>Surname</th>\n",
              "      <th>CreditScore</th>\n",
              "      <th>Geography</th>\n",
              "      <th>Gender</th>\n",
              "      <th>Age</th>\n",
              "      <th>Tenure</th>\n",
              "      <th>Balance</th>\n",
              "      <th>NumOfProducts</th>\n",
              "      <th>HasCrCard</th>\n",
              "      <th>IsActiveMember</th>\n",
              "      <th>EstimatedSalary</th>\n",
              "      <th>Exited</th>\n",
              "    </tr>\n",
              "  </thead>\n",
              "  <tbody>\n",
              "    <tr>\n",
              "      <th>0</th>\n",
              "      <td>1</td>\n",
              "      <td>15634602</td>\n",
              "      <td>Hargrave</td>\n",
              "      <td>619</td>\n",
              "      <td>France</td>\n",
              "      <td>Female</td>\n",
              "      <td>42</td>\n",
              "      <td>2</td>\n",
              "      <td>0.00</td>\n",
              "      <td>1</td>\n",
              "      <td>1</td>\n",
              "      <td>1</td>\n",
              "      <td>101348.88</td>\n",
              "      <td>1</td>\n",
              "    </tr>\n",
              "    <tr>\n",
              "      <th>1</th>\n",
              "      <td>2</td>\n",
              "      <td>15647311</td>\n",
              "      <td>Hill</td>\n",
              "      <td>608</td>\n",
              "      <td>Spain</td>\n",
              "      <td>Female</td>\n",
              "      <td>41</td>\n",
              "      <td>1</td>\n",
              "      <td>83807.86</td>\n",
              "      <td>1</td>\n",
              "      <td>0</td>\n",
              "      <td>1</td>\n",
              "      <td>112542.58</td>\n",
              "      <td>0</td>\n",
              "    </tr>\n",
              "    <tr>\n",
              "      <th>2</th>\n",
              "      <td>3</td>\n",
              "      <td>15619304</td>\n",
              "      <td>Onio</td>\n",
              "      <td>502</td>\n",
              "      <td>France</td>\n",
              "      <td>Female</td>\n",
              "      <td>42</td>\n",
              "      <td>8</td>\n",
              "      <td>159660.80</td>\n",
              "      <td>3</td>\n",
              "      <td>1</td>\n",
              "      <td>0</td>\n",
              "      <td>113931.57</td>\n",
              "      <td>1</td>\n",
              "    </tr>\n",
              "    <tr>\n",
              "      <th>3</th>\n",
              "      <td>4</td>\n",
              "      <td>15701354</td>\n",
              "      <td>Boni</td>\n",
              "      <td>699</td>\n",
              "      <td>France</td>\n",
              "      <td>Female</td>\n",
              "      <td>39</td>\n",
              "      <td>1</td>\n",
              "      <td>0.00</td>\n",
              "      <td>2</td>\n",
              "      <td>0</td>\n",
              "      <td>0</td>\n",
              "      <td>93826.63</td>\n",
              "      <td>0</td>\n",
              "    </tr>\n",
              "    <tr>\n",
              "      <th>4</th>\n",
              "      <td>5</td>\n",
              "      <td>15737888</td>\n",
              "      <td>Mitchell</td>\n",
              "      <td>850</td>\n",
              "      <td>Spain</td>\n",
              "      <td>Female</td>\n",
              "      <td>43</td>\n",
              "      <td>2</td>\n",
              "      <td>125510.82</td>\n",
              "      <td>1</td>\n",
              "      <td>1</td>\n",
              "      <td>1</td>\n",
              "      <td>79084.10</td>\n",
              "      <td>0</td>\n",
              "    </tr>\n",
              "  </tbody>\n",
              "</table>\n",
              "</div>\n",
              "      <button class=\"colab-df-convert\" onclick=\"convertToInteractive('df-19382938-13e7-47ec-b13d-452e06c89f63')\"\n",
              "              title=\"Convert this dataframe to an interactive table.\"\n",
              "              style=\"display:none;\">\n",
              "        \n",
              "  <svg xmlns=\"http://www.w3.org/2000/svg\" height=\"24px\"viewBox=\"0 0 24 24\"\n",
              "       width=\"24px\">\n",
              "    <path d=\"M0 0h24v24H0V0z\" fill=\"none\"/>\n",
              "    <path d=\"M18.56 5.44l.94 2.06.94-2.06 2.06-.94-2.06-.94-.94-2.06-.94 2.06-2.06.94zm-11 1L8.5 8.5l.94-2.06 2.06-.94-2.06-.94L8.5 2.5l-.94 2.06-2.06.94zm10 10l.94 2.06.94-2.06 2.06-.94-2.06-.94-.94-2.06-.94 2.06-2.06.94z\"/><path d=\"M17.41 7.96l-1.37-1.37c-.4-.4-.92-.59-1.43-.59-.52 0-1.04.2-1.43.59L10.3 9.45l-7.72 7.72c-.78.78-.78 2.05 0 2.83L4 21.41c.39.39.9.59 1.41.59.51 0 1.02-.2 1.41-.59l7.78-7.78 2.81-2.81c.8-.78.8-2.07 0-2.86zM5.41 20L4 18.59l7.72-7.72 1.47 1.35L5.41 20z\"/>\n",
              "  </svg>\n",
              "      </button>\n",
              "      \n",
              "  <style>\n",
              "    .colab-df-container {\n",
              "      display:flex;\n",
              "      flex-wrap:wrap;\n",
              "      gap: 12px;\n",
              "    }\n",
              "\n",
              "    .colab-df-convert {\n",
              "      background-color: #E8F0FE;\n",
              "      border: none;\n",
              "      border-radius: 50%;\n",
              "      cursor: pointer;\n",
              "      display: none;\n",
              "      fill: #1967D2;\n",
              "      height: 32px;\n",
              "      padding: 0 0 0 0;\n",
              "      width: 32px;\n",
              "    }\n",
              "\n",
              "    .colab-df-convert:hover {\n",
              "      background-color: #E2EBFA;\n",
              "      box-shadow: 0px 1px 2px rgba(60, 64, 67, 0.3), 0px 1px 3px 1px rgba(60, 64, 67, 0.15);\n",
              "      fill: #174EA6;\n",
              "    }\n",
              "\n",
              "    [theme=dark] .colab-df-convert {\n",
              "      background-color: #3B4455;\n",
              "      fill: #D2E3FC;\n",
              "    }\n",
              "\n",
              "    [theme=dark] .colab-df-convert:hover {\n",
              "      background-color: #434B5C;\n",
              "      box-shadow: 0px 1px 3px 1px rgba(0, 0, 0, 0.15);\n",
              "      filter: drop-shadow(0px 1px 2px rgba(0, 0, 0, 0.3));\n",
              "      fill: #FFFFFF;\n",
              "    }\n",
              "  </style>\n",
              "\n",
              "      <script>\n",
              "        const buttonEl =\n",
              "          document.querySelector('#df-19382938-13e7-47ec-b13d-452e06c89f63 button.colab-df-convert');\n",
              "        buttonEl.style.display =\n",
              "          google.colab.kernel.accessAllowed ? 'block' : 'none';\n",
              "\n",
              "        async function convertToInteractive(key) {\n",
              "          const element = document.querySelector('#df-19382938-13e7-47ec-b13d-452e06c89f63');\n",
              "          const dataTable =\n",
              "            await google.colab.kernel.invokeFunction('convertToInteractive',\n",
              "                                                     [key], {});\n",
              "          if (!dataTable) return;\n",
              "\n",
              "          const docLinkHtml = 'Like what you see? Visit the ' +\n",
              "            '<a target=\"_blank\" href=https://colab.research.google.com/notebooks/data_table.ipynb>data table notebook</a>'\n",
              "            + ' to learn more about interactive tables.';\n",
              "          element.innerHTML = '';\n",
              "          dataTable['output_type'] = 'display_data';\n",
              "          await google.colab.output.renderOutput(dataTable, element);\n",
              "          const docLink = document.createElement('div');\n",
              "          docLink.innerHTML = docLinkHtml;\n",
              "          element.appendChild(docLink);\n",
              "        }\n",
              "      </script>\n",
              "    </div>\n",
              "  </div>\n",
              "  "
            ]
          },
          "metadata": {},
          "execution_count": 6
        }
      ]
    },
    {
      "cell_type": "markdown",
      "source": [
        "Divide the dataset into dependent and independent features"
      ],
      "metadata": {
        "id": "Krp-ANgis_5B"
      }
    },
    {
      "cell_type": "code",
      "source": [
        "x = df.iloc[:,3:-1]\n",
        "y = df.iloc[:,-1]"
      ],
      "metadata": {
        "id": "Zd318mVYriYa"
      },
      "execution_count": 20,
      "outputs": []
    },
    {
      "cell_type": "markdown",
      "source": [
        "FEATURE ENGINEERING"
      ],
      "metadata": {
        "id": "x7USSnkf3ZiE"
      }
    },
    {
      "cell_type": "code",
      "source": [
        "# one-hot encoding \n",
        "geography = pd.get_dummies(x['Geography'], drop_first=True)\n",
        "gender = pd.get_dummies(x['Gender'], drop_first=True)"
      ],
      "metadata": {
        "id": "9iidLbLeriWo"
      },
      "execution_count": 21,
      "outputs": []
    },
    {
      "cell_type": "code",
      "source": [
        "x.drop(columns=['Gender', 'Geography'], inplace=True)"
      ],
      "metadata": {
        "id": "fLKhvyCQriUe"
      },
      "execution_count": 22,
      "outputs": []
    },
    {
      "cell_type": "code",
      "source": [
        "x = pd.concat([x, gender, geography], axis=1)"
      ],
      "metadata": {
        "id": "bpbAsFEfriSO"
      },
      "execution_count": 23,
      "outputs": []
    },
    {
      "cell_type": "markdown",
      "source": [
        "Train Test Split"
      ],
      "metadata": {
        "id": "ObnRhIEL48op"
      }
    },
    {
      "cell_type": "code",
      "source": [
        "from sklearn.model_selection import train_test_split"
      ],
      "metadata": {
        "id": "Zr1f14CeriP2"
      },
      "execution_count": 25,
      "outputs": []
    },
    {
      "cell_type": "code",
      "source": [
        "X_train, X_test, y_train, y_test = train_test_split(x, y, test_size=0.2, random_state=42)"
      ],
      "metadata": {
        "id": "AHjCcjGr46vZ"
      },
      "execution_count": 26,
      "outputs": []
    },
    {
      "cell_type": "markdown",
      "source": [
        "FEATURE SCALING"
      ],
      "metadata": {
        "id": "GeunLJap7Q4k"
      }
    },
    {
      "cell_type": "code",
      "source": [
        "from sklearn.preprocessing import StandardScaler\n",
        "\n",
        "sc = StandardScaler()\n",
        "X_train = sc.fit_transform(X_train)"
      ],
      "metadata": {
        "id": "sdWE2NHJ46sQ"
      },
      "execution_count": 27,
      "outputs": []
    },
    {
      "cell_type": "code",
      "source": [
        "X_test = sc.transform(X_test)"
      ],
      "metadata": {
        "colab": {
          "base_uri": "https://localhost:8080/"
        },
        "id": "x7y61kxp46pu",
        "outputId": "344803fb-ff04-479c-bc56-3f362fcb615e"
      },
      "execution_count": 30,
      "outputs": [
        {
          "output_type": "stream",
          "name": "stderr",
          "text": [
            "/usr/local/lib/python3.7/dist-packages/sklearn/base.py:451: UserWarning: X does not have valid feature names, but StandardScaler was fitted with feature names\n",
            "  \"X does not have valid feature names, but\"\n"
          ]
        }
      ]
    },
    {
      "cell_type": "code",
      "source": [
        "print(X_test.shape)\n",
        "print(X_train.shape)"
      ],
      "metadata": {
        "colab": {
          "base_uri": "https://localhost:8080/"
        },
        "id": "GnXkJZTa46nE",
        "outputId": "c000b570-67fb-411a-eacc-40f5ac6e207c"
      },
      "execution_count": 32,
      "outputs": [
        {
          "output_type": "stream",
          "name": "stdout",
          "text": [
            "(2000, 11)\n",
            "(8000, 11)\n"
          ]
        }
      ]
    },
    {
      "cell_type": "markdown",
      "source": [
        "Creating ANN"
      ],
      "metadata": {
        "id": "DQ1fN6sD8-xg"
      }
    },
    {
      "cell_type": "code",
      "source": [
        "from tensorflow.keras.models import Sequential\n",
        "from tensorflow.keras.layers import Dense\n",
        "from tensorflow.keras.layers import LeakyReLU,PReLU,ELU,ReLU\n",
        "from tensorflow.keras.layers import Dropout"
      ],
      "metadata": {
        "id": "fq89kBgf46kq"
      },
      "execution_count": 34,
      "outputs": []
    },
    {
      "cell_type": "markdown",
      "source": [
        "Initialize ANN"
      ],
      "metadata": {
        "id": "2W0O7c0eFBo8"
      }
    },
    {
      "cell_type": "code",
      "source": [
        "model = Sequential()"
      ],
      "metadata": {
        "id": "AGT3BB_r46hx"
      },
      "execution_count": 54,
      "outputs": []
    },
    {
      "cell_type": "markdown",
      "source": [
        "Adding input layer"
      ],
      "metadata": {
        "id": "u1EeQdQvFGt-"
      }
    },
    {
      "cell_type": "code",
      "source": [
        "model.add(Dense(units=11, activation='relu'))"
      ],
      "metadata": {
        "id": "qo8xGSl846fU"
      },
      "execution_count": 55,
      "outputs": []
    },
    {
      "cell_type": "markdown",
      "source": [
        "Adding first hidden layer "
      ],
      "metadata": {
        "id": "iRnFhCAWFjf5"
      }
    },
    {
      "cell_type": "code",
      "source": [
        "model.add(Dense(units=7, activation='relu'))\n",
        "\n",
        "# adding dropout layer\n",
        "model.add(Dropout(0.2))"
      ],
      "metadata": {
        "id": "O2EJsKsJ46cp"
      },
      "execution_count": 56,
      "outputs": []
    },
    {
      "cell_type": "markdown",
      "source": [
        "Adding second hidden layer"
      ],
      "metadata": {
        "id": "sQ34-3szFw_4"
      }
    },
    {
      "cell_type": "code",
      "source": [
        "model.add(Dense(units=6, activation='relu'))\n",
        "\n",
        "# adding dropout layer\n",
        "model.add(Dropout(0.3))"
      ],
      "metadata": {
        "id": "yibjTtJW46aX"
      },
      "execution_count": 57,
      "outputs": []
    },
    {
      "cell_type": "markdown",
      "source": [
        "Adding output layer"
      ],
      "metadata": {
        "id": "Aynvsg_xF9m5"
      }
    },
    {
      "cell_type": "code",
      "source": [
        "model.add(Dense(1, activation='sigmoid'))"
      ],
      "metadata": {
        "id": "YOgouJp846Xa"
      },
      "execution_count": 58,
      "outputs": []
    },
    {
      "cell_type": "markdown",
      "source": [
        "Compile the entire neural network"
      ],
      "metadata": {
        "id": "J1EP13m6GO2X"
      }
    },
    {
      "cell_type": "code",
      "source": [
        "model.compile(optimizer='adam', loss='binary_crossentropy', metrics=['accuracy'])\n",
        "# by default adam using a learning rate 0.01"
      ],
      "metadata": {
        "id": "qDR_TjIDF7_R"
      },
      "execution_count": 59,
      "outputs": []
    },
    {
      "cell_type": "markdown",
      "source": [
        "If you want to initialize learning rate by your own"
      ],
      "metadata": {
        "id": "Xv0eUsOYGgiZ"
      }
    },
    {
      "cell_type": "code",
      "source": [
        "import tensorflow\n",
        "opt = tensorflow.keras.optimizers.Adam(learning_rate=0.01)"
      ],
      "metadata": {
        "id": "lHOeOep0F773"
      },
      "execution_count": 42,
      "outputs": []
    },
    {
      "cell_type": "markdown",
      "source": [
        "TRAIN NEURAL NETWORK"
      ],
      "metadata": {
        "id": "YHmOfmUtHIyd"
      }
    },
    {
      "cell_type": "markdown",
      "source": [
        "Early Stopping (when the accuracy of the model is not at all increasing automatically the training of the model will stop)\n",
        "\n",
        "https://keras.io/api/callbacks/early_stopping/"
      ],
      "metadata": {
        "id": "Kxqfk-B_IjK1"
      }
    },
    {
      "cell_type": "code",
      "source": [
        "import tensorflow as tf\n",
        "\n",
        "early_stopping = tf.keras.callbacks.EarlyStopping(\n",
        "    monitor=\"val_loss\",\n",
        "    min_delta=0.0001,\n",
        "    patience=20,\n",
        "    verbose=1,\n",
        "    mode=\"auto\",\n",
        "    baseline=None,\n",
        "    restore_best_weights=False,\n",
        ")"
      ],
      "metadata": {
        "id": "na-n7hA4I59s"
      },
      "execution_count": 60,
      "outputs": []
    },
    {
      "cell_type": "code",
      "source": [
        "model_history = model.fit(X_train, y_train, validation_split=0.33, batch_size=10, epochs=100 ,callbacks=early_stopping)"
      ],
      "metadata": {
        "colab": {
          "base_uri": "https://localhost:8080/"
        },
        "id": "lR8ubNdmF75g",
        "outputId": "ce96188c-8def-4b86-a00a-08047f33344f"
      },
      "execution_count": 61,
      "outputs": [
        {
          "output_type": "stream",
          "name": "stdout",
          "text": [
            "Epoch 1/100\n",
            "536/536 [==============================] - 5s 6ms/step - loss: 0.5894 - accuracy: 0.7373 - val_loss: 0.4902 - val_accuracy: 0.7902\n",
            "Epoch 2/100\n",
            "536/536 [==============================] - 2s 3ms/step - loss: 0.5031 - accuracy: 0.7990 - val_loss: 0.4576 - val_accuracy: 0.7959\n",
            "Epoch 3/100\n",
            "536/536 [==============================] - 1s 3ms/step - loss: 0.4710 - accuracy: 0.8067 - val_loss: 0.4358 - val_accuracy: 0.8050\n",
            "Epoch 4/100\n",
            "536/536 [==============================] - 2s 3ms/step - loss: 0.4470 - accuracy: 0.8179 - val_loss: 0.4157 - val_accuracy: 0.8194\n",
            "Epoch 5/100\n",
            "536/536 [==============================] - 2s 3ms/step - loss: 0.4246 - accuracy: 0.8278 - val_loss: 0.4019 - val_accuracy: 0.8266\n",
            "Epoch 6/100\n",
            "536/536 [==============================] - 1s 3ms/step - loss: 0.4092 - accuracy: 0.8364 - val_loss: 0.3907 - val_accuracy: 0.8368\n",
            "Epoch 7/100\n",
            "536/536 [==============================] - 2s 3ms/step - loss: 0.3984 - accuracy: 0.8397 - val_loss: 0.3825 - val_accuracy: 0.8372\n",
            "Epoch 8/100\n",
            "536/536 [==============================] - 1s 3ms/step - loss: 0.3892 - accuracy: 0.8380 - val_loss: 0.3786 - val_accuracy: 0.8406\n",
            "Epoch 9/100\n",
            "536/536 [==============================] - 2s 3ms/step - loss: 0.3870 - accuracy: 0.8477 - val_loss: 0.3729 - val_accuracy: 0.8421\n",
            "Epoch 10/100\n",
            "536/536 [==============================] - 1s 3ms/step - loss: 0.3820 - accuracy: 0.8453 - val_loss: 0.3756 - val_accuracy: 0.8444\n",
            "Epoch 11/100\n",
            "536/536 [==============================] - 2s 3ms/step - loss: 0.3837 - accuracy: 0.8436 - val_loss: 0.3714 - val_accuracy: 0.8448\n",
            "Epoch 12/100\n",
            "536/536 [==============================] - 1s 3ms/step - loss: 0.3868 - accuracy: 0.8429 - val_loss: 0.3703 - val_accuracy: 0.8459\n",
            "Epoch 13/100\n",
            "536/536 [==============================] - 2s 3ms/step - loss: 0.3812 - accuracy: 0.8425 - val_loss: 0.3707 - val_accuracy: 0.8440\n",
            "Epoch 14/100\n",
            "536/536 [==============================] - 2s 3ms/step - loss: 0.3784 - accuracy: 0.8436 - val_loss: 0.3667 - val_accuracy: 0.8474\n",
            "Epoch 15/100\n",
            "536/536 [==============================] - 1s 3ms/step - loss: 0.3745 - accuracy: 0.8474 - val_loss: 0.3654 - val_accuracy: 0.8478\n",
            "Epoch 16/100\n",
            "536/536 [==============================] - 1s 3ms/step - loss: 0.3763 - accuracy: 0.8451 - val_loss: 0.3640 - val_accuracy: 0.8463\n",
            "Epoch 17/100\n",
            "536/536 [==============================] - 2s 3ms/step - loss: 0.3795 - accuracy: 0.8442 - val_loss: 0.3654 - val_accuracy: 0.8485\n",
            "Epoch 18/100\n",
            "536/536 [==============================] - 2s 3ms/step - loss: 0.3771 - accuracy: 0.8438 - val_loss: 0.3638 - val_accuracy: 0.8519\n",
            "Epoch 19/100\n",
            "536/536 [==============================] - 2s 3ms/step - loss: 0.3682 - accuracy: 0.8505 - val_loss: 0.3643 - val_accuracy: 0.8485\n",
            "Epoch 20/100\n",
            "536/536 [==============================] - 1s 3ms/step - loss: 0.3660 - accuracy: 0.8517 - val_loss: 0.3617 - val_accuracy: 0.8501\n",
            "Epoch 21/100\n",
            "536/536 [==============================] - 2s 3ms/step - loss: 0.3699 - accuracy: 0.8513 - val_loss: 0.3637 - val_accuracy: 0.8512\n",
            "Epoch 22/100\n",
            "536/536 [==============================] - 2s 3ms/step - loss: 0.3674 - accuracy: 0.8459 - val_loss: 0.3643 - val_accuracy: 0.8508\n",
            "Epoch 23/100\n",
            "536/536 [==============================] - 1s 3ms/step - loss: 0.3704 - accuracy: 0.8474 - val_loss: 0.3633 - val_accuracy: 0.8493\n",
            "Epoch 24/100\n",
            "536/536 [==============================] - 1s 3ms/step - loss: 0.3650 - accuracy: 0.8481 - val_loss: 0.3636 - val_accuracy: 0.8485\n",
            "Epoch 25/100\n",
            "536/536 [==============================] - 1s 3ms/step - loss: 0.3692 - accuracy: 0.8479 - val_loss: 0.3613 - val_accuracy: 0.8535\n",
            "Epoch 26/100\n",
            "536/536 [==============================] - 1s 3ms/step - loss: 0.3676 - accuracy: 0.8489 - val_loss: 0.3648 - val_accuracy: 0.8459\n",
            "Epoch 27/100\n",
            "536/536 [==============================] - 2s 3ms/step - loss: 0.3710 - accuracy: 0.8442 - val_loss: 0.3612 - val_accuracy: 0.8557\n",
            "Epoch 28/100\n",
            "536/536 [==============================] - 1s 3ms/step - loss: 0.3697 - accuracy: 0.8511 - val_loss: 0.3604 - val_accuracy: 0.8550\n",
            "Epoch 29/100\n",
            "536/536 [==============================] - 2s 3ms/step - loss: 0.3729 - accuracy: 0.8457 - val_loss: 0.3605 - val_accuracy: 0.8523\n",
            "Epoch 30/100\n",
            "536/536 [==============================] - 2s 3ms/step - loss: 0.3629 - accuracy: 0.8487 - val_loss: 0.3592 - val_accuracy: 0.8535\n",
            "Epoch 31/100\n",
            "536/536 [==============================] - 1s 3ms/step - loss: 0.3607 - accuracy: 0.8496 - val_loss: 0.3572 - val_accuracy: 0.8504\n",
            "Epoch 32/100\n",
            "536/536 [==============================] - 2s 3ms/step - loss: 0.3665 - accuracy: 0.8522 - val_loss: 0.3591 - val_accuracy: 0.8501\n",
            "Epoch 33/100\n",
            "536/536 [==============================] - 2s 3ms/step - loss: 0.3654 - accuracy: 0.8494 - val_loss: 0.3587 - val_accuracy: 0.8523\n",
            "Epoch 34/100\n",
            "536/536 [==============================] - 1s 3ms/step - loss: 0.3678 - accuracy: 0.8498 - val_loss: 0.3573 - val_accuracy: 0.8516\n",
            "Epoch 35/100\n",
            "536/536 [==============================] - 1s 3ms/step - loss: 0.3648 - accuracy: 0.8500 - val_loss: 0.3593 - val_accuracy: 0.8504\n",
            "Epoch 36/100\n",
            "536/536 [==============================] - 1s 3ms/step - loss: 0.3663 - accuracy: 0.8522 - val_loss: 0.3606 - val_accuracy: 0.8542\n",
            "Epoch 37/100\n",
            "536/536 [==============================] - 2s 3ms/step - loss: 0.3616 - accuracy: 0.8515 - val_loss: 0.3576 - val_accuracy: 0.8508\n",
            "Epoch 38/100\n",
            "536/536 [==============================] - 2s 3ms/step - loss: 0.3633 - accuracy: 0.8537 - val_loss: 0.3605 - val_accuracy: 0.8512\n",
            "Epoch 39/100\n",
            "536/536 [==============================] - 2s 3ms/step - loss: 0.3596 - accuracy: 0.8526 - val_loss: 0.3584 - val_accuracy: 0.8519\n",
            "Epoch 40/100\n",
            "536/536 [==============================] - 2s 3ms/step - loss: 0.3618 - accuracy: 0.8537 - val_loss: 0.3607 - val_accuracy: 0.8501\n",
            "Epoch 41/100\n",
            "536/536 [==============================] - 2s 3ms/step - loss: 0.3534 - accuracy: 0.8559 - val_loss: 0.3581 - val_accuracy: 0.8508\n",
            "Epoch 42/100\n",
            "536/536 [==============================] - 1s 3ms/step - loss: 0.3604 - accuracy: 0.8505 - val_loss: 0.3588 - val_accuracy: 0.8516\n",
            "Epoch 43/100\n",
            "536/536 [==============================] - 2s 3ms/step - loss: 0.3673 - accuracy: 0.8494 - val_loss: 0.3593 - val_accuracy: 0.8493\n",
            "Epoch 44/100\n",
            "536/536 [==============================] - 2s 3ms/step - loss: 0.3569 - accuracy: 0.8524 - val_loss: 0.3557 - val_accuracy: 0.8501\n",
            "Epoch 45/100\n",
            "536/536 [==============================] - 1s 3ms/step - loss: 0.3609 - accuracy: 0.8515 - val_loss: 0.3606 - val_accuracy: 0.8478\n",
            "Epoch 46/100\n",
            "536/536 [==============================] - 2s 3ms/step - loss: 0.3556 - accuracy: 0.8541 - val_loss: 0.3575 - val_accuracy: 0.8493\n",
            "Epoch 47/100\n",
            "536/536 [==============================] - 2s 3ms/step - loss: 0.3594 - accuracy: 0.8513 - val_loss: 0.3580 - val_accuracy: 0.8493\n",
            "Epoch 48/100\n",
            "536/536 [==============================] - 1s 3ms/step - loss: 0.3664 - accuracy: 0.8511 - val_loss: 0.3592 - val_accuracy: 0.8504\n",
            "Epoch 49/100\n",
            "536/536 [==============================] - 1s 3ms/step - loss: 0.3597 - accuracy: 0.8518 - val_loss: 0.3582 - val_accuracy: 0.8493\n",
            "Epoch 50/100\n",
            "536/536 [==============================] - 2s 3ms/step - loss: 0.3600 - accuracy: 0.8513 - val_loss: 0.3572 - val_accuracy: 0.8470\n",
            "Epoch 51/100\n",
            "536/536 [==============================] - 2s 3ms/step - loss: 0.3537 - accuracy: 0.8531 - val_loss: 0.3580 - val_accuracy: 0.8466\n",
            "Epoch 52/100\n",
            "536/536 [==============================] - 1s 3ms/step - loss: 0.3546 - accuracy: 0.8550 - val_loss: 0.3624 - val_accuracy: 0.8470\n",
            "Epoch 53/100\n",
            "536/536 [==============================] - 1s 3ms/step - loss: 0.3529 - accuracy: 0.8509 - val_loss: 0.3607 - val_accuracy: 0.8504\n",
            "Epoch 54/100\n",
            "536/536 [==============================] - 1s 3ms/step - loss: 0.3509 - accuracy: 0.8574 - val_loss: 0.3578 - val_accuracy: 0.8497\n",
            "Epoch 55/100\n",
            "536/536 [==============================] - 1s 3ms/step - loss: 0.3520 - accuracy: 0.8548 - val_loss: 0.3577 - val_accuracy: 0.8493\n",
            "Epoch 56/100\n",
            "536/536 [==============================] - 1s 3ms/step - loss: 0.3500 - accuracy: 0.8567 - val_loss: 0.3595 - val_accuracy: 0.8459\n",
            "Epoch 57/100\n",
            "536/536 [==============================] - 1s 3ms/step - loss: 0.3559 - accuracy: 0.8513 - val_loss: 0.3594 - val_accuracy: 0.8485\n",
            "Epoch 58/100\n",
            "536/536 [==============================] - 2s 3ms/step - loss: 0.3508 - accuracy: 0.8524 - val_loss: 0.3607 - val_accuracy: 0.8463\n",
            "Epoch 59/100\n",
            "536/536 [==============================] - 2s 3ms/step - loss: 0.3537 - accuracy: 0.8565 - val_loss: 0.3580 - val_accuracy: 0.8482\n",
            "Epoch 60/100\n",
            "536/536 [==============================] - 1s 3ms/step - loss: 0.3483 - accuracy: 0.8524 - val_loss: 0.3573 - val_accuracy: 0.8482\n",
            "Epoch 61/100\n",
            "536/536 [==============================] - 2s 3ms/step - loss: 0.3467 - accuracy: 0.8584 - val_loss: 0.3592 - val_accuracy: 0.8489\n",
            "Epoch 62/100\n",
            "536/536 [==============================] - 1s 3ms/step - loss: 0.3473 - accuracy: 0.8559 - val_loss: 0.3605 - val_accuracy: 0.8474\n",
            "Epoch 63/100\n",
            "536/536 [==============================] - 2s 3ms/step - loss: 0.3466 - accuracy: 0.8550 - val_loss: 0.3609 - val_accuracy: 0.8482\n",
            "Epoch 64/100\n",
            "536/536 [==============================] - 2s 3ms/step - loss: 0.3430 - accuracy: 0.8546 - val_loss: 0.3622 - val_accuracy: 0.8463\n",
            "Epoch 64: early stopping\n"
          ]
        }
      ]
    },
    {
      "cell_type": "code",
      "source": [
        "model_history.history.keys()"
      ],
      "metadata": {
        "colab": {
          "base_uri": "https://localhost:8080/"
        },
        "id": "3am5bNOaF727",
        "outputId": "f47ac57b-3d32-47e7-9dce-b962fe428cc4"
      },
      "execution_count": 62,
      "outputs": [
        {
          "output_type": "execute_result",
          "data": {
            "text/plain": [
              "dict_keys(['loss', 'accuracy', 'val_loss', 'val_accuracy'])"
            ]
          },
          "metadata": {},
          "execution_count": 62
        }
      ]
    },
    {
      "cell_type": "markdown",
      "source": [
        "Summarize history for accuracy"
      ],
      "metadata": {
        "id": "GzAvaREZK3Gb"
      }
    },
    {
      "cell_type": "code",
      "source": [
        "plt.plot(model_history.history['accuracy'])\n",
        "plt.plot(model_history.history['val_accuracy'])\n",
        "plt.title('model accuracy')\n",
        "plt.ylabel('accuracy')\n",
        "plt.xlabel('epoch')\n",
        "plt.legend(['train', 'test'], loc='upper left')\n",
        "plt.show()"
      ],
      "metadata": {
        "colab": {
          "base_uri": "https://localhost:8080/",
          "height": 295
        },
        "id": "76JOTDcv46Uo",
        "outputId": "8e9fc922-7f86-4ea5-c137-bf00e6a8c111"
      },
      "execution_count": 63,
      "outputs": [
        {
          "output_type": "display_data",
          "data": {
            "text/plain": [
              "<Figure size 432x288 with 1 Axes>"
            ],
            "image/png": "[encoded data removed]"
          },
          "metadata": {
            "needs_background": "light"
          }
        }
      ]
    },
    {
      "cell_type": "markdown",
      "source": [
        "Prediction"
      ],
      "metadata": {
        "id": "nY6AHt0hLaPB"
      }
    },
    {
      "cell_type": "code",
      "source": [
        "y_pred = model.predict(X_test)\n",
        "y_pred = (y_pred >= 0.5)"
      ],
      "metadata": {
        "colab": {
          "base_uri": "https://localhost:8080/"
        },
        "id": "eUC049HD46Ru",
        "outputId": "2815852e-4647-4ccb-f95a-23e4fcdcf5aa"
      },
      "execution_count": 64,
      "outputs": [
        {
          "output_type": "stream",
          "name": "stdout",
          "text": [
            "63/63 [==============================] - 0s 3ms/step\n"
          ]
        }
      ]
    },
    {
      "cell_type": "markdown",
      "source": [
        "Confusion matrix"
      ],
      "metadata": {
        "id": "gF2Xv6X2Lo0S"
      }
    },
    {
      "cell_type": "code",
      "source": [
        "from sklearn.metrics import confusion_matrix\n",
        "\n",
        "cm = confusion_matrix(y_test, y_pred)\n",
        "cm"
      ],
      "metadata": {
        "colab": {
          "base_uri": "https://localhost:8080/"
        },
        "id": "3T6uKVbNKa7u",
        "outputId": "a76aef48-5e0e-4e85-8911-2920b07b7325"
      },
      "execution_count": 65,
      "outputs": [
        {
          "output_type": "execute_result",
          "data": {
            "text/plain": [
              "array([[1528,   79],\n",
              "       [ 339,   54]])"
            ]
          },
          "metadata": {},
          "execution_count": 65
        }
      ]
    },
    {
      "cell_type": "markdown",
      "source": [
        "Calculating Accuracy"
      ],
      "metadata": {
        "id": "I6jVRcCCL2FD"
      }
    },
    {
      "cell_type": "code",
      "source": [
        "from sklearn.metrics import accuracy_score\n",
        "\n",
        "score = accuracy_score(y_pred, y_test)\n",
        "score"
      ],
      "metadata": {
        "colab": {
          "base_uri": "https://localhost:8080/"
        },
        "id": "ShkV9xooKa4c",
        "outputId": "9596e888-3aa8-4413-fe06-0d81e4ccf668"
      },
      "execution_count": 66,
      "outputs": [
        {
          "output_type": "execute_result",
          "data": {
            "text/plain": [
              "0.791"
            ]
          },
          "metadata": {},
          "execution_count": 66
        }
      ]
    },
    {
      "cell_type": "markdown",
      "source": [
        "get the weights"
      ],
      "metadata": {
        "id": "XccWJ7JpMGn5"
      }
    },
    {
      "cell_type": "code",
      "source": [
        "model.get_weights()"
      ],
      "metadata": {
        "colab": {
          "base_uri": "https://localhost:8080/"
        },
        "id": "8IiegsVBKa1w",
        "outputId": "6917b556-d004-4b47-f480-cf626a5fbae1"
      },
      "execution_count": 67,
      "outputs": [
        {
          "output_type": "execute_result",
          "data": {
            "text/plain": [
              "[array([[ 2.37894967e-01, -1.39695615e-01,  1.15772307e-01,\n",
              "         -7.39254244e-03, -1.78091347e-01, -1.20556772e-01,\n",
              "         -2.19804823e-01, -8.44486505e-02,  2.46466324e-03,\n",
              "         -4.94090952e-02,  2.88285285e-01],\n",
              "        [-1.27939079e-02,  1.68974146e-01, -9.77695465e-01,\n",
              "         -3.03990424e-01,  7.46290207e-01,  7.70257890e-01,\n",
              "         -5.42060018e-01,  1.18525989e-01, -7.05929279e-01,\n",
              "          2.42350385e-01,  7.15494633e-01],\n",
              "        [ 4.10441488e-01, -6.23369701e-02,  1.51885882e-01,\n",
              "          3.38909984e-01, -1.15396399e-02,  9.42151397e-02,\n",
              "          2.56867886e-01,  7.99135712e-04,  2.33719096e-01,\n",
              "          2.80664042e-02,  2.31620714e-01],\n",
              "        [ 1.81411073e-01, -4.77998070e-02, -2.26896942e-01,\n",
              "          3.91332358e-02, -3.25355589e-01,  1.93674006e-02,\n",
              "          1.53267175e-01, -7.78080881e-01, -5.13779461e-01,\n",
              "          4.66393292e-01, -3.75735104e-01],\n",
              "        [ 6.22203231e-01,  1.00635111e+00,  2.05314755e-01,\n",
              "         -3.62718701e-02, -7.70348370e-01,  2.82400191e-01,\n",
              "          6.60928905e-01,  5.48700273e-01, -2.90689379e-01,\n",
              "          1.02938199e+00, -1.63254708e-01],\n",
              "        [ 2.49867320e-01,  1.18376359e-01,  2.67381705e-02,\n",
              "          2.26852179e-01, -1.04764448e-02,  1.25807971e-01,\n",
              "         -5.78682944e-02, -5.64549975e-02,  1.82238016e-02,\n",
              "         -2.44541734e-01,  8.00598189e-02],\n",
              "        [-4.56192344e-01, -1.69747785e-01,  2.09345907e-01,\n",
              "         -2.54834950e-01, -1.44786239e-01,  5.82743585e-01,\n",
              "          1.22558124e-01, -2.52124071e-01, -6.33354932e-02,\n",
              "          9.23661217e-02, -1.69167012e-01],\n",
              "        [-1.17044397e-01,  3.30909044e-02, -2.39000376e-02,\n",
              "         -2.91221559e-01, -5.16311228e-02,  3.28214653e-02,\n",
              "          1.85588717e-01, -2.24894583e-01,  1.99004970e-02,\n",
              "          6.02235533e-02, -4.36864980e-02],\n",
              "        [-5.70555329e-01,  8.74167681e-03,  4.32585835e-01,\n",
              "         -5.05542934e-01,  5.57864048e-02,  7.90389702e-02,\n",
              "          1.59996539e-01,  6.32749274e-02,  2.65616596e-01,\n",
              "          8.77270252e-02, -1.40343189e-01],\n",
              "        [ 1.39763996e-01,  1.10949427e-01, -4.52131987e-01,\n",
              "         -3.00296247e-01,  2.02793349e-02, -2.29467303e-01,\n",
              "          2.64746286e-02,  2.69570231e-01,  4.19504702e-01,\n",
              "         -4.81197268e-01,  3.21157843e-01],\n",
              "        [ 2.36751109e-01, -3.30086541e-03, -2.26132303e-01,\n",
              "          2.24848792e-01, -3.22534144e-02,  6.52141199e-02,\n",
              "          1.66700408e-01,  1.06548950e-01,  1.40199766e-01,\n",
              "          7.78905451e-02, -2.79958010e-01]], dtype=float32),\n",
              " array([-0.29516798, -0.89026254,  0.9011023 , -0.31572455,  0.04977276,\n",
              "        -0.7777789 ,  0.2775493 , -0.2375481 , -0.0685098 , -0.7510498 ,\n",
              "        -0.1350788 ], dtype=float32),\n",
              " array([[ 2.92142350e-02,  2.76189279e-02,  8.05038065e-02,\n",
              "          3.46093290e-02,  3.57314616e-01, -8.12438726e-01,\n",
              "         -4.32966083e-01],\n",
              "        [-8.31039846e-01,  4.01993275e-01, -6.40632927e-01,\n",
              "          3.60780180e-01,  2.69496560e-01, -4.11123306e-01,\n",
              "         -1.79580107e-01],\n",
              "        [ 2.36165762e-01, -7.95505285e-01,  2.51206160e-01,\n",
              "         -3.30871701e-01, -1.34928361e-01,  3.15029025e-01,\n",
              "         -6.62535906e-01],\n",
              "        [-1.16861522e-01, -1.29472196e-01, -1.08838543e-01,\n",
              "         -2.14622058e-02, -6.02137506e-01, -3.61214757e-01,\n",
              "         -1.16402552e-01],\n",
              "        [-3.14568907e-01,  5.84719241e-01, -3.57921958e-01,\n",
              "         -1.02476910e-01, -5.23772240e-01, -4.31822777e-01,\n",
              "         -1.08077906e-01],\n",
              "        [-1.79965973e-01, -9.85917687e-01, -1.30678162e-01,\n",
              "         -3.79832208e-01, -9.33986828e-02,  4.59126681e-01,\n",
              "          5.52994311e-01],\n",
              "        [ 1.96313709e-01, -2.63748318e-01,  2.00000316e-01,\n",
              "          6.25909939e-02, -8.54403526e-02,  4.62817103e-01,\n",
              "         -8.69166195e-01],\n",
              "        [ 6.38030350e-01,  4.12712776e-04,  5.52408397e-01,\n",
              "          1.68846831e-01,  3.75011936e-02,  4.43454891e-01,\n",
              "          1.84215158e-01],\n",
              "        [-3.49594682e-01, -1.97748929e-01, -2.12778941e-01,\n",
              "          3.62026542e-01,  5.37470639e-01, -4.50400770e-01,\n",
              "          2.69957513e-01],\n",
              "        [-4.31760132e-01,  1.01504946e+00, -5.50209939e-01,\n",
              "          7.52042294e-01,  7.84277678e-01, -6.86612844e-01,\n",
              "          5.47491834e-02],\n",
              "        [-4.67213482e-01,  2.68531621e-01, -4.05800104e-01,\n",
              "         -1.95110127e-01, -3.01429600e-01,  1.54192597e-01,\n",
              "          1.67262092e-01]], dtype=float32),\n",
              " array([ 0.32861042, -0.3621938 ,  0.39418665, -0.530984  , -0.734924  ,\n",
              "         0.0628672 , -0.5032803 ], dtype=float32),\n",
              " array([[ 0.3817011 ,  0.8029805 , -1.1112894 , -0.75216186, -1.4673009 ,\n",
              "         -0.86131084],\n",
              "        [-0.35135546, -0.00304089,  0.7352976 ,  0.5298476 ,  0.22797883,\n",
              "          0.66834706],\n",
              "        [ 0.29033834,  0.6420137 , -0.6896216 , -0.51914483, -0.9241094 ,\n",
              "         -0.4154705 ],\n",
              "        [-0.49947262, -0.38375047,  0.92917174,  0.53505135, -1.2942497 ,\n",
              "         -0.10355517],\n",
              "        [-0.4948425 , -0.6057485 ,  0.7387124 ,  0.24446647, -0.8860017 ,\n",
              "          0.76818115],\n",
              "        [ 0.48196235,  1.1321228 , -0.54644275, -0.7368797 , -1.0057167 ,\n",
              "         -0.7024926 ],\n",
              "        [ 0.67738825,  0.45004487, -1.3413038 , -0.89379734, -0.69187754,\n",
              "         -1.199025  ]], dtype=float32),\n",
              " array([-0.03507965, -0.00998707,  0.2454487 ,  0.35272506,  0.3288542 ,\n",
              "        -0.14166613], dtype=float32),\n",
              " array([[-0.92759264],\n",
              "        [-0.43870622],\n",
              "        [ 0.6959234 ],\n",
              "        [ 0.8965196 ],\n",
              "        [ 1.3233331 ],\n",
              "        [ 1.3607506 ]], dtype=float32),\n",
              " array([-1.475359], dtype=float32)]"
            ]
          },
          "metadata": {},
          "execution_count": 67
        }
      ]
    },
    {
      "cell_type": "code",
      "source": [
        ""
      ],
      "metadata": {
        "id": "R_RXVJplKayy"
      },
      "execution_count": null,
      "outputs": []
    }
  ]
}